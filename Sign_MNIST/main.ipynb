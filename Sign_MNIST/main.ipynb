{
 "metadata": {
  "kernelspec": {
   "language": "python",
   "display_name": "Python 3",
   "name": "python3"
  },
  "language_info": {
   "name": "python",
   "version": "3.10.12",
   "mimetype": "text/x-python",
   "codemirror_mode": {
    "name": "ipython",
    "version": 3
   },
   "pygments_lexer": "ipython3",
   "nbconvert_exporter": "python",
   "file_extension": ".py"
  }
 },
 "nbformat_minor": 4,
 "nbformat": 4,
 "cells": [
  {
   "cell_type": "code",
   "source": [
    "# This Python 3 environment comes with many helpful analytics libraries installed\n",
    "# It is defined by the kaggle/python Docker image: https://github.com/kaggle/docker-python\n",
    "# For example, here's several helpful packages to load\n",
    "\n",
    "import numpy as np # linear algebra\n",
    "import pandas as pd # data processing, CSV file I/O (e.g. pd.read_csv)\n",
    "\n",
    "# Input data files are available in the read-only \"../input/\" directory\n",
    "# For example, running this (by clicking run or pressing Shift+Enter) will list all files under the input directory\n",
    "\n",
    "import os\n",
    "# for dirname, _, filenames in os.walk('/kaggle/input'):\n",
    "#     for filename in filenames:\n",
    "#         print(os.path.join(dirname, filename))\n",
    "\n",
    "# You can write up to 20GB to the current directory (/kaggle/working/) that gets preserved as output when you create a version using \"Save & Run All\" \n",
    "# You can also write temporary files to /kaggle/temp/, but they won't be saved outside of the current session"
   ],
   "metadata": {
    "_uuid": "8f2839f25d086af736a60e9eeb907d3b93b6e0e5",
    "_cell_guid": "b1076dfc-b9ad-4769-8c92-a6c4dae69d19",
    "execution": {
     "iopub.status.busy": "2023-08-25T12:43:46.184264Z",
     "iopub.execute_input": "2023-08-25T12:43:46.184680Z",
     "iopub.status.idle": "2023-08-25T12:43:46.191963Z",
     "shell.execute_reply.started": "2023-08-25T12:43:46.184646Z",
     "shell.execute_reply": "2023-08-25T12:43:46.190893Z"
    },
    "trusted": true
   },
   "execution_count": 14,
   "outputs": []
  },
  {
   "cell_type": "code",
   "source": [
    "import tensorflow as tf\n",
    "import cv2\n",
    "import matplotlib.pyplot as plt"
   ],
   "metadata": {
    "execution": {
     "iopub.status.busy": "2023-08-25T12:43:46.194181Z",
     "iopub.execute_input": "2023-08-25T12:43:46.194560Z",
     "iopub.status.idle": "2023-08-25T12:43:46.209640Z",
     "shell.execute_reply.started": "2023-08-25T12:43:46.194517Z",
     "shell.execute_reply": "2023-08-25T12:43:46.208498Z"
    },
    "trusted": true
   },
   "execution_count": 15,
   "outputs": []
  },
  {
   "cell_type": "code",
   "source": [
    "ROOT_DIR = \"/kaggle/input/sign-language-mnist\"\n",
    "\n",
    "train_df = pd.read_csv(os.path.join(ROOT_DIR, \"sign_mnist_train\", \"sign_mnist_train.csv\"))\n",
    "test_df = pd.read_csv(os.path.join(ROOT_DIR, \"sign_mnist_test\", \"sign_mnist_test.csv\"))\n",
    "train_df.head"
   ],
   "metadata": {
    "execution": {
     "iopub.status.busy": "2023-08-25T12:43:46.211571Z",
     "iopub.execute_input": "2023-08-25T12:43:46.212336Z",
     "iopub.status.idle": "2023-08-25T12:43:50.644651Z",
     "shell.execute_reply.started": "2023-08-25T12:43:46.212299Z",
     "shell.execute_reply": "2023-08-25T12:43:50.643194Z"
    },
    "trusted": true
   },
   "execution_count": 16,
   "outputs": [
    {
     "execution_count": 16,
     "output_type": "execute_result",
     "data": {
      "text/plain": "<bound method NDFrame.head of        label  pixel1  pixel2  pixel3  pixel4  pixel5  pixel6  pixel7  pixel8  \\\n0          3     107     118     127     134     139     143     146     150   \n1          6     155     157     156     156     156     157     156     158   \n2          2     187     188     188     187     187     186     187     188   \n3          2     211     211     212     212     211     210     211     210   \n4         13     164     167     170     172     176     179     180     184   \n...      ...     ...     ...     ...     ...     ...     ...     ...     ...   \n27450     13     189     189     190     190     192     193     193     193   \n27451     23     151     154     157     158     160     161     163     164   \n27452     18     174     174     174     174     174     175     175     174   \n27453     17     177     181     184     185     187     189     190     191   \n27454     23     179     180     180     180     182     181     182     183   \n\n       pixel9  ...  pixel775  pixel776  pixel777  pixel778  pixel779  \\\n0         153  ...       207       207       207       207       206   \n1         158  ...        69       149       128        87        94   \n2         187  ...       202       201       200       199       198   \n3         210  ...       235       234       233       231       230   \n4         185  ...        92       105       105       108       133   \n...       ...  ...       ...       ...       ...       ...       ...   \n27450     193  ...       132       165        99        77        52   \n27451     166  ...       198       198       198       198       198   \n27452     173  ...       121       196       209       208       206   \n27453     191  ...       119        56        27        58       102   \n27454     182  ...       108       132       170       194       214   \n\n       pixel780  pixel781  pixel782  pixel783  pixel784  \n0           206       206       204       203       202  \n1           163       175       103       135       149  \n2           199       198       195       194       195  \n3           226       225       222       229       163  \n4           163       157       163       164       179  \n...         ...       ...       ...       ...       ...  \n27450       200       234       200       222       225  \n27451       196       195       195       195       194  \n27452       204       203       202       200       200  \n27453        79        47        64        87        93  \n27454       203       197       205       209       215  \n\n[27455 rows x 785 columns]>"
     },
     "metadata": {}
    }
   ]
  },
  {
   "cell_type": "code",
   "source": [
    "def process_dataset(dataset):\n",
    "    y_train_df = dataset[dataset.columns[0]]\n",
    "    X_train_df = dataset.drop(columns=dataset.columns[0])\n",
    "    X_train_np = np.reshape(X_train_df.values, (-1, 28, 28))\n",
    "    X_train_np = np.expand_dims(X_train_np, axis=-1) / 255\n",
    "    \n",
    "    return X_train_np, y_train_df.values\n",
    "    "
   ],
   "metadata": {
    "execution": {
     "iopub.status.busy": "2023-08-25T13:02:31.271079Z",
     "iopub.execute_input": "2023-08-25T13:02:31.272337Z",
     "iopub.status.idle": "2023-08-25T13:02:31.278759Z",
     "shell.execute_reply.started": "2023-08-25T13:02:31.272296Z",
     "shell.execute_reply": "2023-08-25T13:02:31.277590Z"
    },
    "trusted": true
   },
   "execution_count": 37,
   "outputs": []
  },
  {
   "cell_type": "code",
   "source": [
    "x_train_df, y_train_df = process_dataset(train_df)\n",
    "x_train_df.shape"
   ],
   "metadata": {
    "execution": {
     "iopub.status.busy": "2023-08-25T13:02:33.278029Z",
     "iopub.execute_input": "2023-08-25T13:02:33.278518Z",
     "iopub.status.idle": "2023-08-25T13:02:33.429876Z",
     "shell.execute_reply.started": "2023-08-25T13:02:33.278480Z",
     "shell.execute_reply": "2023-08-25T13:02:33.428534Z"
    },
    "trusted": true
   },
   "execution_count": 38,
   "outputs": [
    {
     "execution_count": 38,
     "output_type": "execute_result",
     "data": {
      "text/plain": "(27455, 28, 28, 1)"
     },
     "metadata": {}
    }
   ]
  },
  {
   "cell_type": "code",
   "source": [
    "_scale = 0.8\n",
    "fig, arr = plt.subplots(1, 2, sharey=True, figsize=(14*_scale,10*_scale))\n",
    "arr[0].imshow(x_train_df[0])\n",
    "arr[1].imshow(x_train_df[3])"
   ],
   "metadata": {
    "execution": {
     "iopub.status.busy": "2023-08-25T13:36:47.518169Z",
     "iopub.execute_input": "2023-08-25T13:36:47.518655Z",
     "iopub.status.idle": "2023-08-25T13:36:48.024650Z",
     "shell.execute_reply.started": "2023-08-25T13:36:47.518616Z",
     "shell.execute_reply": "2023-08-25T13:36:48.023319Z"
    },
    "trusted": true
   },
   "execution_count": 55,
   "outputs": [
    {
     "execution_count": 55,
     "output_type": "execute_result",
     "data": {
      "text/plain": "<matplotlib.image.AxesImage at 0x7e36ec8bd1e0>"
     },
     "metadata": {}
    },
    {
     "output_type": "display_data",
     "data": {
      "text/plain": "<Figure size 1120x800 with 2 Axes>",
      "image/png": "[encoded data removed]"
     },
     "metadata": {}
    }
   ]
  },
  {
   "cell_type": "code",
   "source": [
    "early_stoping = callback = tf.keras.callbacks.EarlyStopping(monitor='val_accuracy', patience=3)\n",
    "\n",
    "class LearningRateMode(tf.keras.callbacks.Callback):\n",
    "    def __init__(self, lr, sigma):\n",
    "        self.lr = lr\n",
    "        self.sigma = sigma\n",
    "    \n",
    "    def on_epoch_end(self, epoch, logs={}):\n",
    "        new_lr = self.lr/(1 + self.sigma*epoch)\n",
    "        self.model.optimizer.lr.assign(new_lr)\n",
    "        if 'lr' not in self.model.history.history:\n",
    "            self.model.history.history['lr'] = []\n",
    "        self.model.history.history['lr'].append(new_lr)\n",
    "        print(f\"\\nUpdated lr to {new_lr}\")\n",
    "\n",
    "learningRateMod = LearningRateMode(0.01, 0.8)"
   ],
   "metadata": {
    "execution": {
     "iopub.status.busy": "2023-08-25T14:20:39.385443Z",
     "iopub.execute_input": "2023-08-25T14:20:39.385882Z",
     "iopub.status.idle": "2023-08-25T14:20:39.395325Z",
     "shell.execute_reply.started": "2023-08-25T14:20:39.385848Z",
     "shell.execute_reply": "2023-08-25T14:20:39.394210Z"
    },
    "trusted": true
   },
   "execution_count": 63,
   "outputs": []
  },
  {
   "cell_type": "code",
   "source": [
    "import tensorflow.keras.layers as tfl\n",
    "\n",
    "model = tf.keras.models.Sequential([\n",
    "    tfl.Conv2D(64, kernel_size=3, padding=\"same\", activation=\"relu\", input_shape=(28, 28, 1), kernel_initializer=\"he_normal\"),\n",
    "    tfl.MaxPooling2D(pool_size=(2,2)),\n",
    "    tfl.Conv2D(32, kernel_size=3, padding=\"same\", activation=\"relu\", kernel_initializer=\"he_normal\"),\n",
    "    tfl.MaxPooling2D(pool_size=(2,2)),\n",
    "    tfl.Dropout(0.2),\n",
    "    tfl.Flatten(),\n",
    "    tfl.Dense(32, activation=\"relu\"),\n",
    "    tfl.Dense(26, activation=\"softmax\")\n",
    "])\n",
    "\n",
    "model.compile(loss=tf.keras.losses.SparseCategoricalCrossentropy(), optimizer=tf.keras.optimizers.Adam(), metrics=[\"accuracy\"])"
   ],
   "metadata": {
    "execution": {
     "iopub.status.busy": "2023-08-25T14:27:54.616512Z",
     "iopub.execute_input": "2023-08-25T14:27:54.616948Z",
     "iopub.status.idle": "2023-08-25T14:27:54.718737Z",
     "shell.execute_reply.started": "2023-08-25T14:27:54.616911Z",
     "shell.execute_reply": "2023-08-25T14:27:54.717641Z"
    },
    "trusted": true
   },
   "execution_count": 70,
   "outputs": []
  },
  {
   "cell_type": "code",
   "source": [
    "history = model.fit(x_train_df, y_train_df, epochs=20, validation_data=process_dataset(test_df), callbacks=[early_stoping, learningRateMod])"
   ],
   "metadata": {
    "execution": {
     "iopub.status.busy": "2023-08-25T14:27:58.296353Z",
     "iopub.execute_input": "2023-08-25T14:27:58.296776Z",
     "iopub.status.idle": "2023-08-25T14:32:18.924612Z",
     "shell.execute_reply.started": "2023-08-25T14:27:58.296743Z",
     "shell.execute_reply": "2023-08-25T14:32:18.923572Z"
    },
    "trusted": true
   },
   "execution_count": 71,
   "outputs": [
    {
     "name": "stdout",
     "text": "Epoch 1/20\n857/858 [============================>.] - ETA: 0s - loss: 1.2582 - accuracy: 0.6144\nUpdated lr to 0.01\n858/858 [==============================] - 30s 34ms/step - loss: 1.2572 - accuracy: 0.6146 - val_loss: 0.5462 - val_accuracy: 0.8143\nEpoch 2/20\n858/858 [==============================] - ETA: 0s - loss: 0.3327 - accuracy: 0.8897\nUpdated lr to 0.005555555555555556\n858/858 [==============================] - 28s 33ms/step - loss: 0.3327 - accuracy: 0.8897 - val_loss: 0.5563 - val_accuracy: 0.8613\nEpoch 3/20\n857/858 [============================>.] - ETA: 0s - loss: 0.0521 - accuracy: 0.9831\nUpdated lr to 0.003846153846153846\n858/858 [==============================] - 29s 34ms/step - loss: 0.0520 - accuracy: 0.9831 - val_loss: 0.4731 - val_accuracy: 0.8925\nEpoch 4/20\n858/858 [==============================] - ETA: 0s - loss: 0.0244 - accuracy: 0.9917\nUpdated lr to 0.0029411764705882353\n858/858 [==============================] - 29s 34ms/step - loss: 0.0244 - accuracy: 0.9917 - val_loss: 0.4335 - val_accuracy: 0.9112\nEpoch 5/20\n858/858 [==============================] - ETA: 0s - loss: 0.0128 - accuracy: 0.9961\nUpdated lr to 0.0023809523809523807\n858/858 [==============================] - 29s 33ms/step - loss: 0.0128 - accuracy: 0.9961 - val_loss: 0.4976 - val_accuracy: 0.9052\nEpoch 6/20\n858/858 [==============================] - ETA: 0s - loss: 0.0120 - accuracy: 0.9963\nUpdated lr to 0.002\n858/858 [==============================] - 29s 33ms/step - loss: 0.0120 - accuracy: 0.9963 - val_loss: 0.4867 - val_accuracy: 0.9183\nEpoch 7/20\n858/858 [==============================] - ETA: 0s - loss: 0.0171 - accuracy: 0.9948\nUpdated lr to 0.0017241379310344825\n858/858 [==============================] - 29s 34ms/step - loss: 0.0171 - accuracy: 0.9948 - val_loss: 0.4682 - val_accuracy: 0.8997\nEpoch 8/20\n858/858 [==============================] - ETA: 0s - loss: 0.0121 - accuracy: 0.9964\nUpdated lr to 0.0015151515151515152\n858/858 [==============================] - 29s 34ms/step - loss: 0.0121 - accuracy: 0.9964 - val_loss: 0.5116 - val_accuracy: 0.9021\nEpoch 9/20\n857/858 [============================>.] - ETA: 0s - loss: 0.0068 - accuracy: 0.9981\nUpdated lr to 0.0013513513513513512\n858/858 [==============================] - 29s 33ms/step - loss: 0.0068 - accuracy: 0.9981 - val_loss: 0.4692 - val_accuracy: 0.9155\n",
     "output_type": "stream"
    }
   ]
  },
  {
   "cell_type": "code",
   "source": [
    "learning_rate = history.history[\"lr\"]\n",
    "\n",
    "plt.plot(learning_rate, history.history[\"loss\"])"
   ],
   "metadata": {
    "execution": {
     "iopub.status.busy": "2023-08-25T14:32:35.307250Z",
     "iopub.execute_input": "2023-08-25T14:32:35.308167Z"
    },
    "trusted": true
   },
   "execution_count": null,
   "outputs": []
  }
 ]
}

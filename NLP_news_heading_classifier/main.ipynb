{
 "cells": [
  {
   "cell_type": "code",
   "execution_count": 12,
   "metadata": {
    "collapsed": true
   },
   "outputs": [],
   "source": [
    "import os\n",
    "import pandas as pd\n",
    "import numpy as np\n",
    "\n",
    "topics_init = [x for x in os.listdir(\"./bbc-fulltext/bbc\") if x != \"README.TXT\"]"
   ]
  },
  {
   "cell_type": "code",
   "execution_count": 20,
   "outputs": [
    {
     "data": {
      "text/plain": "topic\nsport            511\nbusiness         510\npolitics         417\ntech             401\nentertainment    386\nName: count, dtype: int64"
     },
     "execution_count": 20,
     "metadata": {},
     "output_type": "execute_result"
    }
   ],
   "source": [
    "article_list = {\"heading\":[], \"topic\":[]}\n",
    "\n",
    "for x in topics_init:\n",
    "    for article_title in os.listdir(os.path.join(\"./bbc-fulltext/bbc\", x)):\n",
    "        with open(os.path.join(\"./bbc-fulltext/bbc\", x, article_title), \"r\") as f:\n",
    "            heading = f.readline()\n",
    "            article_list[\"heading\"].append(heading)\n",
    "            article_list[\"topic\"].append(x)\n",
    "article_df = pd.DataFrame(article_list)\n",
    "article_df[\"topic\"].value_counts()"
   ],
   "metadata": {
    "collapsed": false
   }
  },
  {
   "cell_type": "code",
   "execution_count": null,
   "outputs": [],
   "source": [],
   "metadata": {
    "collapsed": false
   }
  }
 ],
 "metadata": {
  "kernelspec": {
   "display_name": "Python 3",
   "language": "python",
   "name": "python3"
  },
  "language_info": {
   "codemirror_mode": {
    "name": "ipython",
    "version": 2
   },
   "file_extension": ".py",
   "mimetype": "text/x-python",
   "name": "python",
   "nbconvert_exporter": "python",
   "pygments_lexer": "ipython2",
   "version": "2.7.6"
  }
 },
 "nbformat": 4,
 "nbformat_minor": 0
}

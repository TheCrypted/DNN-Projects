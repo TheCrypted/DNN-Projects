{
 "cells": [
  {
   "cell_type": "code",
   "execution_count": 12,
   "metadata": {
    "collapsed": true
   },
   "outputs": [],
   "source": [
    "import os\n",
    "import pandas as pd\n",
    "import numpy as np\n",
    "\n",
    "topics_init = [x for x in os.listdir(\"./bbc-fulltext/bbc\") if x != \"README.TXT\"]"
   ]
  },
  {
   "cell_type": "code",
   "execution_count": 24,
   "outputs": [
    {
     "data": {
      "text/plain": "0    Ad sales boost Time Warner profit\n1     Dollar gains on Greenspan speech\n2    Yukos unit buyer faces loan claim\n3    High fuel prices hit BA's profits\n4    Pernod takeover talk lifts Domecq\nName: heading, dtype: object"
     },
     "execution_count": 24,
     "metadata": {},
     "output_type": "execute_result"
    }
   ],
   "source": [
    "article_list = {\"heading\":[], \"topic\":[]}\n",
    "\n",
    "for x in topics_init:\n",
    "    for article_title in os.listdir(os.path.join(\"./bbc-fulltext/bbc\", x)):\n",
    "        with open(os.path.join(\"./bbc-fulltext/bbc\", x, article_title), \"r\") as f:\n",
    "            heading = f.readline()\n",
    "            article_list[\"heading\"].append(heading.split(\"\\n\")[0])\n",
    "            article_list[\"topic\"].append(x)\n",
    "article_df = pd.DataFrame(article_list)\n",
    "article_df[\"heading\"].head()"
   ],
   "metadata": {
    "collapsed": false
   }
  },
  {
   "cell_type": "code",
   "execution_count": 31,
   "outputs": [
    {
     "name": "stdout",
     "output_type": "stream",
     "text": [
      "Ad sales boost Time Warner profit\n"
     ]
    }
   ],
   "source": [
    "from keras.src.utils import pad_sequences\n",
    "from keras.src.preprocessing.text import Tokenizer\n",
    "\n",
    "headings_arr = article_df[\"heading\"].values\n",
    "heading_tokenizer = Tokenizer(oov_token=\"<OOV>\")\n",
    "heading_tokenizer.fit_on_texts(headings_arr)\n",
    "\n",
    "sequenced_headings = heading_tokenizer.texts_to_sequences(headings_arr)\n",
    "padded_heading = pad_sequences(sequenced_headings, padding=\"post\", truncating=\"post\", maxlen = 10)"
   ],
   "metadata": {
    "collapsed": false
   }
  },
  {
   "cell_type": "code",
   "execution_count": 33,
   "outputs": [
    {
     "data": {
      "text/plain": "array([0, 0, 0, 0, 0])"
     },
     "execution_count": 33,
     "metadata": {},
     "output_type": "execute_result"
    }
   ],
   "source": [
    "from sklearn.preprocessing import LabelEncoder\n",
    "\n",
    "topic_encoder = LabelEncoder()\n",
    "ys = topic_encoder.fit_transform(article_df[\"topic\"].values)\n",
    "ys[:5]"
   ],
   "metadata": {
    "collapsed": false
   }
  },
  {
   "cell_type": "code",
   "execution_count": 34,
   "outputs": [],
   "source": [
    "from sklearn.model_selection import train_test_split\n",
    "\n",
    "x_train, x_test, y_train, y_test = train_test_split(padded_heading, ys, train_size=0.8, random_state=4)"
   ],
   "metadata": {
    "collapsed": false
   }
  },
  {
   "cell_type": "code",
   "execution_count": 55,
   "outputs": [],
   "source": [
    "from keras.src.layers import Embedding, Bidirectional, Dropout, LSTM, Conv1D, GlobalAveragePooling1D, Dense\n",
    "from keras import Sequential\n",
    "\n",
    "model = Sequential([\n",
    "    Embedding(len(heading_tokenizer.word_index)+1, 32, input_length = 10),\n",
    "    Dropout(0.2),\n",
    "    Conv1D(64, 4, activation=\"relu\"),\n",
    "    # Bidirectional(LSTM(32)),\n",
    "    GlobalAveragePooling1D(),\n",
    "    Dense(32, activation=\"relu\"),\n",
    "    Dense(5, activation=\"softmax\")\n",
    "])\n",
    "\n",
    "model.compile(loss=\"sparse_categorical_crossentropy\", optimizer=\"adam\", metrics=[\"accuracy\"])"
   ],
   "metadata": {
    "collapsed": false
   }
  },
  {
   "cell_type": "code",
   "execution_count": 56,
   "outputs": [
    {
     "name": "stdout",
     "output_type": "stream",
     "text": [
      "Epoch 1/20\n",
      "56/56 [==============================] - 2s 8ms/step - loss: 1.6010 - accuracy: 0.2449 - val_loss: 1.5863 - val_accuracy: 0.2360\n",
      "Epoch 2/20\n",
      "56/56 [==============================] - 0s 6ms/step - loss: 1.5024 - accuracy: 0.3472 - val_loss: 1.4095 - val_accuracy: 0.4045\n",
      "Epoch 3/20\n",
      "56/56 [==============================] - 0s 6ms/step - loss: 1.0754 - accuracy: 0.5556 - val_loss: 1.1409 - val_accuracy: 0.5079\n",
      "Epoch 4/20\n",
      "56/56 [==============================] - 0s 6ms/step - loss: 0.6326 - accuracy: 0.8157 - val_loss: 0.9455 - val_accuracy: 0.6764\n",
      "Epoch 5/20\n",
      "56/56 [==============================] - 0s 6ms/step - loss: 0.2935 - accuracy: 0.9472 - val_loss: 0.7997 - val_accuracy: 0.7236\n",
      "Epoch 6/20\n",
      "56/56 [==============================] - 0s 6ms/step - loss: 0.1165 - accuracy: 0.9837 - val_loss: 0.7660 - val_accuracy: 0.7438\n",
      "Epoch 7/20\n",
      "56/56 [==============================] - 0s 6ms/step - loss: 0.0489 - accuracy: 0.9972 - val_loss: 0.7588 - val_accuracy: 0.7506\n",
      "Epoch 8/20\n",
      "56/56 [==============================] - 0s 5ms/step - loss: 0.0251 - accuracy: 1.0000 - val_loss: 0.7851 - val_accuracy: 0.7506\n",
      "Epoch 9/20\n",
      "56/56 [==============================] - 0s 5ms/step - loss: 0.0143 - accuracy: 0.9994 - val_loss: 0.8038 - val_accuracy: 0.7461\n",
      "Epoch 10/20\n",
      "56/56 [==============================] - 0s 5ms/step - loss: 0.0094 - accuracy: 1.0000 - val_loss: 0.8127 - val_accuracy: 0.7393\n",
      "Epoch 11/20\n",
      "56/56 [==============================] - 0s 5ms/step - loss: 0.0069 - accuracy: 1.0000 - val_loss: 0.8401 - val_accuracy: 0.7461\n",
      "Epoch 12/20\n",
      "56/56 [==============================] - 0s 5ms/step - loss: 0.0057 - accuracy: 1.0000 - val_loss: 0.8631 - val_accuracy: 0.7438\n",
      "Epoch 13/20\n",
      "56/56 [==============================] - 0s 5ms/step - loss: 0.0045 - accuracy: 1.0000 - val_loss: 0.8655 - val_accuracy: 0.7438\n",
      "Epoch 14/20\n",
      "56/56 [==============================] - 0s 5ms/step - loss: 0.0036 - accuracy: 1.0000 - val_loss: 0.8693 - val_accuracy: 0.7416\n",
      "Epoch 15/20\n",
      "56/56 [==============================] - 0s 5ms/step - loss: 0.0028 - accuracy: 1.0000 - val_loss: 0.8890 - val_accuracy: 0.7438\n",
      "Epoch 16/20\n",
      "56/56 [==============================] - 0s 5ms/step - loss: 0.0024 - accuracy: 1.0000 - val_loss: 0.9064 - val_accuracy: 0.7438\n",
      "Epoch 17/20\n",
      "56/56 [==============================] - 0s 5ms/step - loss: 0.0021 - accuracy: 1.0000 - val_loss: 0.9092 - val_accuracy: 0.7416\n",
      "Epoch 18/20\n",
      "56/56 [==============================] - 0s 5ms/step - loss: 0.0019 - accuracy: 1.0000 - val_loss: 0.9200 - val_accuracy: 0.7483\n",
      "Epoch 19/20\n",
      "56/56 [==============================] - 0s 5ms/step - loss: 0.0015 - accuracy: 1.0000 - val_loss: 0.9227 - val_accuracy: 0.7461\n",
      "Epoch 20/20\n",
      "56/56 [==============================] - 0s 6ms/step - loss: 0.0013 - accuracy: 1.0000 - val_loss: 0.9406 - val_accuracy: 0.7438\n"
     ]
    },
    {
     "data": {
      "text/plain": "<keras.src.callbacks.History at 0x1d37580ef90>"
     },
     "execution_count": 56,
     "metadata": {},
     "output_type": "execute_result"
    }
   ],
   "source": [
    "model.fit(x_train, y_train, epochs=20, validation_data=(x_test, y_test))"
   ],
   "metadata": {
    "collapsed": false
   }
  },
  {
   "cell_type": "code",
   "execution_count": 77,
   "outputs": [
    {
     "name": "stdout",
     "output_type": "stream",
     "text": [
      "1/1 [==============================] - 0s 26ms/step\n",
      "['politics']\n"
     ]
    }
   ],
   "source": [
    "padded_input = pad_sequences(heading_tokenizer.texts_to_sequences([\"\"]), maxlen=10, padding=\"post\", truncating=\"post\")\n",
    "prediction = model.predict(padded_input)\n",
    "print(topic_encoder.inverse_transform([np.argmax(prediction)]))"
   ],
   "metadata": {
    "collapsed": false
   }
  }
 ],
 "metadata": {
  "kernelspec": {
   "display_name": "Python 3",
   "language": "python",
   "name": "python3"
  },
  "language_info": {
   "codemirror_mode": {
    "name": "ipython",
    "version": 2
   },
   "file_extension": ".py",
   "mimetype": "text/x-python",
   "name": "python",
   "nbconvert_exporter": "python",
   "pygments_lexer": "ipython2",
   "version": "2.7.6"
  }
 },
 "nbformat": 4,
 "nbformat_minor": 0
}

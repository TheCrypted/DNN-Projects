{
 "cells": [
  {
   "cell_type": "code",
   "execution_count": 1,
   "metadata": {
    "collapsed": true
   },
   "outputs": [],
   "source": [
    "import numpy as np\n",
    "import matplotlib.pyplot as plt"
   ]
  },
  {
   "cell_type": "code",
   "execution_count": 35,
   "outputs": [],
   "source": [
    "def init_params(n_l, n_l_prev):\n",
    "    print(n_l)\n",
    "    W = np.random.randn(n_l, n_l_prev) * 0.01\n",
    "    b = np.zeros((n_l, 1))\n",
    "    return W, b"
   ],
   "metadata": {
    "collapsed": false
   }
  },
  {
   "cell_type": "code",
   "execution_count": 37,
   "outputs": [],
   "source": [
    "def init_layers(layer_structure):\n",
    "    params = {}\n",
    "    for index, layer in enumerate(layer_structure[1:]):\n",
    "        params[\"W\" + str(index+1)], params[\"b\" + str(index+1)] = init_params(layer, layer_structure[index])\n",
    "    return params\n"
   ],
   "metadata": {
    "collapsed": false
   }
  },
  {
   "cell_type": "code",
   "execution_count": 41,
   "outputs": [],
   "source": [
    "def sigmoid(z):\n",
    "    return 1/(1 + np.exp(-z))"
   ],
   "metadata": {
    "collapsed": false
   }
  },
  {
   "cell_type": "code",
   "execution_count": 43,
   "outputs": [],
   "source": [
    "def forward_prop(W, B, x):\n",
    "    activation = np.dot(W, x) + B\n",
    "    A = sigmoid(activation)\n",
    "    return activation, (x, W, B)\n"
   ],
   "metadata": {
    "collapsed": false
   }
  },
  {
   "cell_type": "code",
   "execution_count": 44,
   "outputs": [],
   "source": [
    "def forward_prop_layers(parameters, X):\n",
    "    caches = []\n",
    "    for i in range(len(parameters)//2):\n",
    "        X, cache = forward_prop(parameters[\"W\"+str(i+1)], parameters[\"b\"+str(i+1)], X)\n",
    "        caches.append(cache)\n",
    "    return X, caches"
   ],
   "metadata": {
    "collapsed": false
   }
  },
  {
   "cell_type": "code",
   "execution_count": 45,
   "outputs": [],
   "source": [
    "def get_cost(yhat, y):\n",
    "    loss = (1-y)*np.log(1-yhat) + y*np.log(yhat)\n",
    "    return - np.mean(loss)"
   ],
   "metadata": {
    "collapsed": false
   }
  },
  {
   "cell_type": "code",
   "execution_count": 46,
   "outputs": [],
   "source": [
    "def back_prop(dz, cache):\n",
    "    A_prev, W, B = cache\n",
    "    dW = np.dot(A_prev.T, dz) / A_prev.shape[1]\n",
    "    db = np.mean(dz, axis=1, keepdims=True)\n",
    "    dAprev = np.dot(W.T, dz)\n",
    "    return dAprev, dW, db"
   ],
   "metadata": {
    "collapsed": false
   }
  },
  {
   "cell_type": "code",
   "execution_count": null,
   "outputs": [],
   "source": [
    "def back_prop_full(dA, cache):\n"
   ],
   "metadata": {
    "collapsed": false
   }
  }
 ],
 "metadata": {
  "kernelspec": {
   "display_name": "Python 3",
   "language": "python",
   "name": "python3"
  },
  "language_info": {
   "codemirror_mode": {
    "name": "ipython",
    "version": 2
   },
   "file_extension": ".py",
   "mimetype": "text/x-python",
   "name": "python",
   "nbconvert_exporter": "python",
   "pygments_lexer": "ipython2",
   "version": "2.7.6"
  }
 },
 "nbformat": 4,
 "nbformat_minor": 0
}

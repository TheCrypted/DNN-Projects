{
 "cells": [
  {
   "cell_type": "code",
   "execution_count": 3,
   "metadata": {
    "collapsed": true
   },
   "outputs": [],
   "source": [
    "import tensorflow as tf\n",
    "import pandas as pd\n",
    "import numpy as np"
   ]
  },
  {
   "cell_type": "code",
   "execution_count": 4,
   "outputs": [
    {
     "data": {
      "text/plain": "                                              review sentiment\n0  One of the other reviewers has mentioned that ...  positive\n1  A wonderful little production. <br /><br />The...  positive\n2  I thought this was a wonderful way to spend ti...  positive\n3  Basically there's a family where a little boy ...  negative\n4  Petter Mattei's \"Love in the Time of Money\" is...  positive",
      "text/html": "<div>\n<style scoped>\n    .dataframe tbody tr th:only-of-type {\n        vertical-align: middle;\n    }\n\n    .dataframe tbody tr th {\n        vertical-align: top;\n    }\n\n    .dataframe thead th {\n        text-align: right;\n    }\n</style>\n<table border=\"1\" class=\"dataframe\">\n  <thead>\n    <tr style=\"text-align: right;\">\n      <th></th>\n      <th>review</th>\n      <th>sentiment</th>\n    </tr>\n  </thead>\n  <tbody>\n    <tr>\n      <th>0</th>\n      <td>One of the other reviewers has mentioned that ...</td>\n      <td>positive</td>\n    </tr>\n    <tr>\n      <th>1</th>\n      <td>A wonderful little production. &lt;br /&gt;&lt;br /&gt;The...</td>\n      <td>positive</td>\n    </tr>\n    <tr>\n      <th>2</th>\n      <td>I thought this was a wonderful way to spend ti...</td>\n      <td>positive</td>\n    </tr>\n    <tr>\n      <th>3</th>\n      <td>Basically there's a family where a little boy ...</td>\n      <td>negative</td>\n    </tr>\n    <tr>\n      <th>4</th>\n      <td>Petter Mattei's \"Love in the Time of Money\" is...</td>\n      <td>positive</td>\n    </tr>\n  </tbody>\n</table>\n</div>"
     },
     "execution_count": 4,
     "metadata": {},
     "output_type": "execute_result"
    }
   ],
   "source": [
    "df = pd.read_csv(\"IMDB Dataset.csv\")\n",
    "df.head()"
   ],
   "metadata": {
    "collapsed": false
   }
  },
  {
   "cell_type": "code",
   "execution_count": 5,
   "outputs": [],
   "source": [
    "X_train = df[\"review\"].values[:40000]\n",
    "y_train = df[\"sentiment\"].values[:40000]\n",
    "X_test = df[\"review\"].values[40000:]\n",
    "y_test = df[\"sentiment\"].values[40000:]"
   ],
   "metadata": {
    "collapsed": false
   }
  },
  {
   "cell_type": "code",
   "execution_count": 10,
   "outputs": [],
   "source": [
    "from keras.src.utils import pad_sequences\n",
    "from keras.src.preprocessing.text import Tokenizer\n",
    "\n",
    "review_tokenizer = Tokenizer(num_words=10000, oov_token=\"<OOV>\")\n",
    "review_tokenizer.fit_on_texts(X_train)\n",
    "\n",
    "sequenced_x = review_tokenizer.texts_to_sequences(X_train)\n",
    "X_train_input = pad_sequences(sequenced_x, padding=\"post\",maxlen=200, truncating=\"post\")\n",
    "X_test_input = pad_sequences(review_tokenizer.texts_to_sequences(X_test),maxlen=200, padding=\"post\", truncating=\"post\")\n"
   ],
   "metadata": {
    "collapsed": false
   }
  },
  {
   "cell_type": "code",
   "execution_count": 11,
   "outputs": [
    {
     "data": {
      "text/plain": "(40000, 200)"
     },
     "execution_count": 11,
     "metadata": {},
     "output_type": "execute_result"
    }
   ],
   "source": [
    "X_train_input.shape"
   ],
   "metadata": {
    "collapsed": false
   }
  },
  {
   "cell_type": "code",
   "execution_count": 23,
   "outputs": [
    {
     "data": {
      "text/plain": "5007"
     },
     "execution_count": 23,
     "metadata": {},
     "output_type": "execute_result"
    }
   ],
   "source": [
    "y_train_input = np.where(y_train == \"positive\", 1, 0)\n",
    "y_test_input = np.where(y_test == \"positive\", 1, 0)"
   ],
   "metadata": {
    "collapsed": false
   }
  },
  {
   "cell_type": "code",
   "execution_count": 24,
   "outputs": [
    {
     "name": "stdout",
     "output_type": "stream",
     "text": [
      "(40000, 200) (40000,) (10000, 200) (10000,)\n"
     ]
    }
   ],
   "source": [
    "print(X_train_input.shape, y_train_input.shape, X_test_input.shape, y_test_input.shape)"
   ],
   "metadata": {
    "collapsed": false
   }
  },
  {
   "cell_type": "code",
   "execution_count": 25,
   "outputs": [],
   "source": [
    "from keras.src.layers import Embedding, GlobalAveragePooling1D, Dense\n",
    "from keras import Sequential\n",
    "\n",
    "model = Sequential([\n",
    "    Embedding(10000, 20, input_length=200),\n",
    "    GlobalAveragePooling1D(),\n",
    "    Dense(16, activation=\"relu\"),\n",
    "    Dense(1, activation=\"sigmoid\")\n",
    "])\n",
    "model.compile(loss=\"binary_crossentropy\", optimizer=\"adam\", metrics=[\"accuracy\"])"
   ],
   "metadata": {
    "collapsed": false
   }
  },
  {
   "cell_type": "code",
   "execution_count": 26,
   "outputs": [
    {
     "name": "stdout",
     "output_type": "stream",
     "text": [
      "Epoch 1/10\n",
      "1250/1250 [==============================] - 3s 2ms/step - loss: 0.4349 - accuracy: 0.8087 - val_loss: 0.3110 - val_accuracy: 0.8721\n",
      "Epoch 2/10\n",
      "1250/1250 [==============================] - 2s 2ms/step - loss: 0.2637 - accuracy: 0.8945 - val_loss: 0.2917 - val_accuracy: 0.8824\n",
      "Epoch 3/10\n",
      "1250/1250 [==============================] - 3s 2ms/step - loss: 0.2277 - accuracy: 0.9111 - val_loss: 0.2952 - val_accuracy: 0.8818\n",
      "Epoch 4/10\n",
      "1250/1250 [==============================] - 3s 2ms/step - loss: 0.2055 - accuracy: 0.9209 - val_loss: 0.3147 - val_accuracy: 0.8762\n",
      "Epoch 5/10\n",
      "1250/1250 [==============================] - 3s 3ms/step - loss: 0.1902 - accuracy: 0.9286 - val_loss: 0.3237 - val_accuracy: 0.8750\n",
      "Epoch 6/10\n",
      "1250/1250 [==============================] - 3s 2ms/step - loss: 0.1773 - accuracy: 0.9334 - val_loss: 0.3357 - val_accuracy: 0.8726\n",
      "Epoch 7/10\n",
      "1250/1250 [==============================] - 3s 2ms/step - loss: 0.1673 - accuracy: 0.9386 - val_loss: 0.3502 - val_accuracy: 0.8686\n",
      "Epoch 8/10\n",
      "1250/1250 [==============================] - 3s 3ms/step - loss: 0.1597 - accuracy: 0.9422 - val_loss: 0.3739 - val_accuracy: 0.8637\n",
      "Epoch 9/10\n",
      "1250/1250 [==============================] - 3s 2ms/step - loss: 0.1519 - accuracy: 0.9451 - val_loss: 0.3872 - val_accuracy: 0.8626\n",
      "Epoch 10/10\n",
      "1250/1250 [==============================] - 3s 2ms/step - loss: 0.1451 - accuracy: 0.9485 - val_loss: 0.4023 - val_accuracy: 0.8631\n"
     ]
    },
    {
     "data": {
      "text/plain": "<keras.src.callbacks.History at 0x23231947510>"
     },
     "execution_count": 26,
     "metadata": {},
     "output_type": "execute_result"
    }
   ],
   "source": [
    "model.fit(X_train_input, y_train_input, epochs=10, validation_data=(X_test_input, y_test_input))"
   ],
   "metadata": {
    "collapsed": false
   }
  },
  {
   "cell_type": "code",
   "execution_count": 49,
   "outputs": [
    {
     "name": "stdout",
     "output_type": "stream",
     "text": [
      "1/1 [==============================] - 0s 15ms/step\n"
     ]
    },
    {
     "data": {
      "text/plain": "array([[0.10823628]], dtype=float32)"
     },
     "execution_count": 49,
     "metadata": {},
     "output_type": "execute_result"
    }
   ],
   "source": [
    "predict_x = \"terrible movie but i loved how much i hated it\"\n",
    "sequenced_input = review_tokenizer.texts_to_sequences(np.expand_dims(predict_x, axis = 0))\n",
    "padded_input = pad_sequences(sequenced_input, padding=\"post\",maxlen=200, truncating=\"post\")\n",
    "model.predict(padded_input)"
   ],
   "metadata": {
    "collapsed": false
   }
  }
 ],
 "metadata": {
  "kernelspec": {
   "display_name": "Python 3",
   "language": "python",
   "name": "python3"
  },
  "language_info": {
   "codemirror_mode": {
    "name": "ipython",
    "version": 2
   },
   "file_extension": ".py",
   "mimetype": "text/x-python",
   "name": "python",
   "nbconvert_exporter": "python",
   "pygments_lexer": "ipython2",
   "version": "2.7.6"
  }
 },
 "nbformat": 4,
 "nbformat_minor": 0
}

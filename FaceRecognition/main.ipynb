{
 "cells": [
  {
   "cell_type": "code",
   "execution_count": 2,
   "metadata": {
    "collapsed": true
   },
   "outputs": [],
   "source": [
    "import tensorflow\n",
    "import numpy as np\n",
    "import matplotlib.pyplot as plt\n",
    "import cv2\n",
    "import os, sys, tarfile"
   ]
  },
  {
   "cell_type": "code",
   "execution_count": 3,
   "outputs": [],
   "source": [
    "try:\n",
    "    tar = tarfile.open(\"archive (3)/lfw-funneled.tgz\", \"r\")\n",
    "    for item in tar:\n",
    "        tar.extract(item, \"archive (3)/faces\")\n",
    "except:\n",
    "    print(\"Error\")"
   ],
   "metadata": {
    "collapsed": false
   }
  },
  {
   "cell_type": "code",
   "execution_count": 4,
   "outputs": [
    {
     "data": {
      "text/plain": "array(['Aaron_Eckhart', 'Aaron_Guiel', 'Aaron_Patterson', 'Aaron_Peirsol',\n       'Aaron_Pena'], dtype='<U35')"
     },
     "execution_count": 4,
     "metadata": {},
     "output_type": "execute_result"
    }
   ],
   "source": [
    "faces_list = np.array(os.listdir(\"archive (3)/faces/lfw_funneled\"))\n"
   ],
   "metadata": {
    "collapsed": false
   }
  },
  {
   "cell_type": "code",
   "execution_count": 9,
   "outputs": [],
   "source": [
    "from sklearn.datasets import fetch_lfw_people\n",
    "lfw_people = fetch_lfw_people(min_faces_per_person=10, resize=0.4)"
   ],
   "metadata": {
    "collapsed": false
   }
  },
  {
   "cell_type": "code",
   "execution_count": 33,
   "outputs": [
    {
     "name": "stdout",
     "output_type": "stream",
     "text": [
      "(4324,)\n",
      "(4324, 50, 37)\n"
     ]
    }
   ],
   "source": [
    "print(lfw_people.target.shape)\n",
    "print(lfw_people.images.shape)"
   ],
   "metadata": {
    "collapsed": false
   }
  },
  {
   "cell_type": "code",
   "execution_count": 38,
   "outputs": [
    {
     "name": "stdout",
     "output_type": "stream",
     "text": [
      "dict_keys([54, 0, 134, 23, 153, 56, 137, 157, 106, 17, 37, 28, 76, 11, 92, 3, 21, 6, 81, 57, 13, 36, 35, 156, 128, 117, 131, 125, 149, 91, 59, 86, 26, 34, 65, 85, 88, 77, 138, 124, 63, 152, 70, 95, 5, 46, 25, 127, 111, 102, 42, 61, 154, 4, 14, 119, 49, 47, 68, 139, 103, 100, 151, 72, 89, 19, 66, 110, 99, 93, 146, 39, 79, 38, 29, 33, 50, 73, 12, 145, 122, 123, 45, 147, 129, 60, 41, 43, 44, 52, 83, 109, 141, 144, 24, 48, 80, 126, 30, 121, 7, 97, 40, 27, 9, 84, 120, 78, 136, 1, 67, 71, 90, 96, 132, 10, 69, 15, 8, 143, 62, 2, 118, 130, 115, 94, 82, 116, 18, 112, 114, 58, 32, 142, 64, 75, 20, 98, 87, 148, 150, 51, 74, 105, 107, 55, 104, 140, 133, 113, 31, 108, 16, 101, 155, 53, 135, 22])\n"
     ]
    }
   ],
   "source": [
    "same_faces = {}\n",
    "\n",
    "for i, name in enumerate(lfw_people.target):\n",
    "    if name not in same_faces.keys():\n",
    "        same_faces[name] = []\n",
    "    same_faces[name].append(np.expand_dims(lfw_people.images[i], -1))\n",
    "\n",
    "print(same_faces.keys())"
   ],
   "metadata": {
    "collapsed": false
   }
  },
  {
   "cell_type": "code",
   "execution_count": 40,
   "outputs": [
    {
     "name": "stdout",
     "output_type": "stream",
     "text": [
      "(50, 37, 1)\n",
      "(50, 37, 1)\n",
      "(50, 37, 1)\n",
      "(50, 37, 1)\n",
      "(50, 37, 1)\n",
      "(50, 37, 1)\n",
      "(50, 37, 1)\n",
      "(50, 37, 1)\n",
      "(50, 37, 1)\n",
      "(50, 37, 1)\n",
      "(50, 37, 1)\n",
      "(50, 37, 1)\n",
      "(50, 37, 1)\n",
      "(50, 37, 1)\n",
      "(50, 37, 1)\n",
      "(50, 37, 1)\n",
      "(50, 37, 1)\n",
      "(50, 37, 1)\n",
      "(50, 37, 1)\n",
      "(50, 37, 1)\n",
      "(50, 37, 1)\n",
      "(50, 37, 1)\n",
      "(50, 37, 1)\n",
      "(50, 37, 1)\n",
      "(50, 37, 1)\n",
      "(50, 37, 1)\n",
      "(50, 37, 1)\n",
      "(50, 37, 1)\n",
      "(50, 37, 1)\n",
      "(50, 37, 1)\n",
      "(50, 37, 1)\n",
      "(50, 37, 1)\n",
      "(50, 37, 1)\n",
      "(50, 37, 1)\n",
      "(50, 37, 1)\n",
      "(50, 37, 1)\n",
      "(50, 37, 1)\n",
      "(50, 37, 1)\n",
      "(50, 37, 1)\n",
      "(50, 37, 1)\n",
      "(50, 37, 1)\n",
      "(50, 37, 1)\n",
      "(50, 37, 1)\n",
      "(50, 37, 1)\n",
      "(50, 37, 1)\n",
      "(50, 37, 1)\n",
      "(50, 37, 1)\n",
      "(50, 37, 1)\n",
      "(50, 37, 1)\n",
      "(50, 37, 1)\n",
      "(50, 37, 1)\n",
      "(50, 37, 1)\n",
      "(50, 37, 1)\n",
      "(50, 37, 1)\n",
      "(50, 37, 1)\n",
      "(50, 37, 1)\n",
      "(50, 37, 1)\n",
      "(50, 37, 1)\n",
      "(50, 37, 1)\n",
      "(50, 37, 1)\n",
      "(50, 37, 1)\n",
      "(50, 37, 1)\n",
      "(50, 37, 1)\n",
      "(50, 37, 1)\n",
      "(50, 37, 1)\n",
      "(50, 37, 1)\n",
      "(50, 37, 1)\n",
      "(50, 37, 1)\n",
      "(50, 37, 1)\n",
      "(50, 37, 1)\n",
      "(50, 37, 1)\n",
      "(50, 37, 1)\n",
      "(50, 37, 1)\n",
      "(50, 37, 1)\n",
      "(50, 37, 1)\n",
      "(50, 37, 1)\n",
      "(50, 37, 1)\n",
      "(50, 37, 1)\n",
      "(50, 37, 1)\n",
      "(50, 37, 1)\n",
      "(50, 37, 1)\n",
      "(50, 37, 1)\n",
      "(50, 37, 1)\n",
      "(50, 37, 1)\n",
      "(50, 37, 1)\n",
      "(50, 37, 1)\n",
      "(50, 37, 1)\n",
      "(50, 37, 1)\n",
      "(50, 37, 1)\n",
      "(50, 37, 1)\n",
      "(50, 37, 1)\n",
      "(50, 37, 1)\n",
      "(50, 37, 1)\n",
      "(50, 37, 1)\n",
      "(50, 37, 1)\n",
      "(50, 37, 1)\n",
      "(50, 37, 1)\n",
      "(50, 37, 1)\n",
      "(50, 37, 1)\n",
      "(50, 37, 1)\n",
      "(50, 37, 1)\n",
      "(50, 37, 1)\n",
      "(50, 37, 1)\n",
      "(50, 37, 1)\n",
      "(50, 37, 1)\n",
      "(50, 37, 1)\n",
      "(50, 37, 1)\n",
      "(50, 37, 1)\n",
      "(50, 37, 1)\n",
      "(50, 37, 1)\n",
      "(50, 37, 1)\n",
      "(50, 37, 1)\n",
      "(50, 37, 1)\n",
      "(50, 37, 1)\n",
      "(50, 37, 1)\n",
      "(50, 37, 1)\n",
      "(50, 37, 1)\n",
      "(50, 37, 1)\n",
      "(50, 37, 1)\n",
      "(50, 37, 1)\n",
      "(50, 37, 1)\n",
      "(50, 37, 1)\n",
      "(50, 37, 1)\n",
      "(50, 37, 1)\n",
      "(50, 37, 1)\n",
      "(50, 37, 1)\n",
      "(50, 37, 1)\n",
      "(50, 37, 1)\n",
      "(50, 37, 1)\n",
      "(50, 37, 1)\n",
      "(50, 37, 1)\n",
      "(50, 37, 1)\n",
      "(50, 37, 1)\n",
      "(50, 37, 1)\n",
      "(50, 37, 1)\n",
      "(50, 37, 1)\n",
      "(50, 37, 1)\n",
      "(50, 37, 1)\n",
      "(50, 37, 1)\n",
      "(50, 37, 1)\n",
      "(50, 37, 1)\n",
      "(50, 37, 1)\n",
      "(50, 37, 1)\n",
      "(50, 37, 1)\n",
      "(50, 37, 1)\n",
      "(50, 37, 1)\n",
      "(50, 37, 1)\n",
      "(50, 37, 1)\n",
      "(50, 37, 1)\n",
      "(50, 37, 1)\n",
      "(50, 37, 1)\n",
      "(50, 37, 1)\n",
      "(50, 37, 1)\n",
      "(50, 37, 1)\n",
      "(50, 37, 1)\n",
      "(50, 37, 1)\n",
      "(50, 37, 1)\n",
      "(50, 37, 1)\n"
     ]
    }
   ],
   "source": [
    "for key in same_faces.keys():\n",
    "    if len(same_faces[key]) > 1:\n",
    "        print(same_faces[key][0].shape)\n",
    "# print(len(same_faces[\"David Beckham\"]))"
   ],
   "metadata": {
    "collapsed": false
   }
  },
  {
   "cell_type": "code",
   "execution_count": 57,
   "outputs": [],
   "source": [
    "import math\n",
    "import random\n",
    "\n",
    "triplets = []\n",
    "\n",
    "for key in same_faces.keys():\n",
    "    images = np.array(same_faces[key])\n",
    "    for i in range(int(math.ceil(len(images)/8))):\n",
    "        triplet = []\n",
    "        image_pair = np.random.choice(np.arange(len(images)), size = 2, replace=False)\n",
    "        triplet.append(images[image_pair[0]])\n",
    "        triplet.append(images[image_pair[1]])\n",
    "        key_negative = random.choice(list(same_faces.keys()))\n",
    "        if key_negative == key:\n",
    "            key_negative = random.choice(list(same_faces.keys()))\n",
    "        neg_img = random.choice(same_faces[key_negative])\n",
    "        triplet.append(neg_img)\n",
    "        triplet = np.array(triplet)\n",
    "        triplets.append(triplet)"
   ],
   "metadata": {
    "collapsed": false
   }
  },
  {
   "cell_type": "code",
   "execution_count": 63,
   "outputs": [
    {
     "name": "stdout",
     "output_type": "stream",
     "text": [
      "615\n"
     ]
    },
    {
     "data": {
      "text/plain": "<Figure size 640x480 with 1 Axes>",
      "image/png": "[encoded data removed]"
     },
     "metadata": {},
     "output_type": "display_data"
    },
    {
     "data": {
      "text/plain": "<Figure size 640x480 with 1 Axes>",
      "image/png": "[encoded data removed]"
     },
     "metadata": {},
     "output_type": "display_data"
    },
    {
     "data": {
      "text/plain": "<Figure size 640x480 with 1 Axes>",
      "image/png": "[encoded data removed]"
     },
     "metadata": {},
     "output_type": "display_data"
    }
   ],
   "source": [
    "print(len(triplets))\n",
    "for triplet in triplets[70]:\n",
    "    plt.imshow(triplet, cmap=plt.cm.binary)\n",
    "    plt.show()"
   ],
   "metadata": {
    "collapsed": false
   }
  },
  {
   "cell_type": "code",
   "execution_count": 56,
   "outputs": [
    {
     "name": "stdout",
     "output_type": "stream",
     "text": [
      "52\n"
     ]
    }
   ],
   "source": [
    "print(len(same_faces[54]))"
   ],
   "metadata": {
    "collapsed": false
   }
  }
 ],
 "metadata": {
  "kernelspec": {
   "display_name": "Python 3",
   "language": "python",
   "name": "python3"
  },
  "language_info": {
   "codemirror_mode": {
    "name": "ipython",
    "version": 2
   },
   "file_extension": ".py",
   "mimetype": "text/x-python",
   "name": "python",
   "nbconvert_exporter": "python",
   "pygments_lexer": "ipython2",
   "version": "2.7.6"
  }
 },
 "nbformat": 4,
 "nbformat_minor": 0
}
